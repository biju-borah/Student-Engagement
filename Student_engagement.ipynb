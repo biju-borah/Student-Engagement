{
  "cells": [
    {
      "cell_type": "code",
      "execution_count": null,
      "metadata": {
        "id": "FrCxpieWoXBe"
      },
      "outputs": [],
      "source": [
        "import numpy as np\n",
        "import cv2\n",
        "\n",
        "import PIL.Image as Image\n",
        "#import os\n",
        "\n",
        "#import matplotlib.pylab as plt\n",
        "\n",
        "#import tensorflow as tf\n",
        "#import tensorflow_hub as tensorflow_hub\n",
        "\n",
        "from tensorflow import keras\n",
        "#from tensorflow.keras import layers\n",
        "#from tensorflow.keras.models import Sequential\n",
        "\n",
        "import pathlib"
      ]
    },
    {
      "cell_type": "code",
      "execution_count": null,
      "metadata": {
        "colab": {
          "base_uri": "https://localhost:8080/"
        },
        "id": "FtvgKBMWwbre",
        "outputId": "4bdd0596-c66b-42dd-9315-e388ff1b6e87"
      },
      "outputs": [],
      "source": [
        "confused_dataset_dir = \"Engaged/confused\"\n",
        "engaged_dataset_dir = \"Engaged/engaged\"\n",
        "frustrated_dataset_dir = \"Engaged/frustrated\"\n",
        "\n",
        "Lookingaway_dataset_dir = \"Not engaged/Looking Away\"\n",
        "bored_dataset_dir = \"Not engaged/bored\"\n",
        "drowsy_dataset_dir = \"Not engaged/drowsy\"\n",
        "\n",
        "\n",
        "confused_dataset_dir = pathlib.Path(confused_dataset_dir)\n",
        "print(confused_dataset_dir)\n",
        "engaged_dataset_dir = pathlib.Path(engaged_dataset_dir)\n",
        "print(engaged_dataset_dir)\n",
        "frustrated_dataset_dir = pathlib.Path(frustrated_dataset_dir)\n",
        "print(frustrated_dataset_dir)\n",
        "Lookingaway_dataset_dir = pathlib.Path(Lookingaway_dataset_dir)\n",
        "print(Lookingaway_dataset_dir)\n",
        "bored_dataset_dir = pathlib.Path(bored_dataset_dir)\n",
        "print(bored_dataset_dir)\n",
        "drowsy_dataset_dir = pathlib.Path(drowsy_dataset_dir)\n",
        "print(drowsy_dataset_dir)"
      ]
    },
    {
      "cell_type": "code",
      "execution_count": null,
      "metadata": {
        "colab": {
          "base_uri": "https://localhost:8080/"
        },
        "id": "XLyT9DfI4SLz",
        "outputId": "2737285b-a440-44bb-aedd-5f3287e59ddb"
      },
      "outputs": [],
      "source": [
        "list(confused_dataset_dir.glob('*'))[:5]"
      ]
    },
    {
      "cell_type": "code",
      "execution_count": null,
      "metadata": {
        "colab": {
          "base_uri": "https://localhost:8080/"
        },
        "id": "81p8oji94_lb",
        "outputId": "e76d5bf9-896d-46c4-98b0-e6d838cfd540"
      },
      "outputs": [],
      "source": [
        "image_count = len(list(confused_dataset_dir.glob('*')))\n",
        "image_count"
      ]
    },
    {
      "cell_type": "code",
      "execution_count": null,
      "metadata": {
        "colab": {
          "base_uri": "https://localhost:8080/",
          "height": 427
        },
        "id": "I-OklYak7wF7",
        "outputId": "3e2a2fb6-6e24-413d-c571-8fcac4ce4715"
      },
      "outputs": [],
      "source": [
        "confused = list(confused_dataset_dir.glob(\"*\"))\n",
        "Image.open(str(confused[5])) "
      ]
    },
    {
      "cell_type": "code",
      "execution_count": null,
      "metadata": {
        "id": "MNxRbhE6_SF8"
      },
      "outputs": [],
      "source": [
        "image_dict = {\n",
        "    'confused': list(confused_dataset_dir.glob('*')),\n",
        "    'engaged' : list(engaged_dataset_dir.glob('*')),\n",
        "    'frustrated': list(frustrated_dataset_dir.glob('*')),\n",
        "    'Lookingaway' : list(Lookingaway_dataset_dir.glob('*')),\n",
        "    'bored': list(bored_dataset_dir.glob('*')),\n",
        "    'drowsy' : list(drowsy_dataset_dir.glob('*')),\n",
        "}"
      ]
    },
    {
      "cell_type": "code",
      "execution_count": null,
      "metadata": {
        "id": "p8_UlYpTASO5"
      },
      "outputs": [],
      "source": [
        "labels_dict = {\n",
        "    'confused': 0,\n",
        "    'engaged' : 1,\n",
        "    'frustrated': 2,\n",
        "    'Lookingaway' : 3,\n",
        "    'bored': 4,\n",
        "    'drowsy' : 5,\n",
        "}\n",
        "\n",
        "labels_class = ['confused','engaged','frustrated','Lookingaway','bored','drowsy',]"
      ]
    },
    {
      "cell_type": "code",
      "execution_count": null,
      "metadata": {
        "colab": {
          "base_uri": "https://localhost:8080/"
        },
        "id": "4zhi-RFeAaXj",
        "outputId": "9935f9c0-9d5e-4a96-e378-c8e1eae17674"
      },
      "outputs": [],
      "source": [
        "img = cv2.imread(str(image_dict['engaged'][5]))\n",
        "img = cv2.cvtColor(img,cv2.COLOR_BGR2RGB) \n",
        "img.shape"
      ]
    },
    {
      "cell_type": "code",
      "execution_count": null,
      "metadata": {
        "id": "6Vc7s4GCBKck"
      },
      "outputs": [],
      "source": [
        "X = []\n",
        "y = []\n",
        "\n",
        "for label, images in image_dict.items():\n",
        "  for image in images:\n",
        "    img = cv2.imread(str(image))\n",
        "    resized_img = cv2.resize(img,(360,360))\n",
        "    X.append(resized_img)\n",
        "    y.append(labels_dict[label])"
      ]
    },
    {
      "cell_type": "code",
      "execution_count": null,
      "metadata": {
        "id": "jollcDr7Np0v"
      },
      "outputs": [],
      "source": [
        "X[0]"
      ]
    },
    {
      "cell_type": "code",
      "execution_count": null,
      "metadata": {
        "id": "47SF2piTDipZ"
      },
      "outputs": [],
      "source": [
        "X = np.array(X)\n",
        "y = np.array(y)"
      ]
    },
    {
      "cell_type": "code",
      "execution_count": null,
      "metadata": {},
      "outputs": [],
      "source": [
        "X[0].shape"
      ]
    },
    {
      "cell_type": "code",
      "execution_count": null,
      "metadata": {
        "id": "gESSQk49Dnbw"
      },
      "outputs": [],
      "source": [
        "from sklearn.model_selection import train_test_split\n",
        "X_train, X_test, y_train, y_test = train_test_split(X, y, random_state=0)"
      ]
    },
    {
      "cell_type": "code",
      "execution_count": null,
      "metadata": {},
      "outputs": [],
      "source": [
        "X_test.shape"
      ]
    },
    {
      "cell_type": "code",
      "execution_count": null,
      "metadata": {
        "id": "NHbCXDEXRXD8"
      },
      "outputs": [],
      "source": [
        "X_train = X_train / 255.0\n",
        "X_test = X_test / 255.0"
      ]
    },
    {
      "cell_type": "code",
      "execution_count": null,
      "metadata": {
        "id": "J2T80A5TDqrH"
      },
      "outputs": [],
      "source": [
        "model = keras.Sequential([\n",
        "    keras.layers.Conv2D(filters=32,kernel_size=(3,3),activation='relu',input_shape=(360,360,3)),\n",
        "    keras.layers.MaxPooling2D((2,2)),\n",
        "\n",
        "    keras.layers.Conv2D(filters=64,kernel_size=(3,3),activation='relu',input_shape=(360,360,3)),\n",
        "    keras.layers.MaxPooling2D((2,2)),\n",
        "\n",
        "    keras.layers.Flatten(),\n",
        "    keras.layers.Dense(64,activation='relu'),\n",
        "    keras.layers.Dense(6,activation='softmax')\n",
        "])"
      ]
    },
    {
      "cell_type": "code",
      "execution_count": null,
      "metadata": {
        "id": "3Ny-srBVEiSf"
      },
      "outputs": [],
      "source": [
        "model.compile(optimizer='adam',\n",
        "            loss='sparse_categorical_crossentropy',\n",
        "            metrics=['accuracy'])"
      ]
    },
    {
      "cell_type": "code",
      "execution_count": null,
      "metadata": {
        "id": "cOmLRhBXEsBo"
      },
      "outputs": [],
      "source": [
        "model.fit(X_train, y_train, epochs=2)  "
      ]
    },
    {
      "cell_type": "code",
      "execution_count": null,
      "metadata": {},
      "outputs": [],
      "source": [
        "model.evaluate(X_test,y_test)"
      ]
    },
    {
      "cell_type": "code",
      "execution_count": null,
      "metadata": {},
      "outputs": [],
      "source": [
        "predictions = model.predict(X_test)"
      ]
    },
    {
      "cell_type": "code",
      "execution_count": null,
      "metadata": {},
      "outputs": [],
      "source": [
        "predictions.shape"
      ]
    },
    {
      "cell_type": "code",
      "execution_count": null,
      "metadata": {},
      "outputs": [],
      "source": [
        "verify_index = 450"
      ]
    },
    {
      "cell_type": "code",
      "execution_count": null,
      "metadata": {},
      "outputs": [],
      "source": [
        "pred_index = np.argmax(predictions[verify_index])"
      ]
    },
    {
      "cell_type": "code",
      "execution_count": null,
      "metadata": {},
      "outputs": [],
      "source": [
        "import matplotlib.pyplot as plt\n",
        "plt.imshow(X_test[verify_index])\n",
        "plt.xlabel(labels_class[y_test[verify_index]])\n",
        "print(\"Pridicted state: \",labels_class[pred_index])"
      ]
    },
    {
      "cell_type": "code",
      "execution_count": null,
      "metadata": {},
      "outputs": [],
      "source": [
        "out_img = Image.fromarray(X_test[300],'RGB')\n",
        "out_img.show()"
      ]
    },
    {
      "cell_type": "code",
      "execution_count": null,
      "metadata": {},
      "outputs": [],
      "source": [
        "history = model.fit(X_train,y_train,epochs = 10 , validation_data = (X_test, y_test))"
      ]
    },
    {
      "cell_type": "code",
      "execution_count": null,
      "metadata": {},
      "outputs": [],
      "source": [
        "acc = history.history['accuracy']\n",
        "val_acc = history.history['val_accuracy']\n",
        "loss = history.history['loss']\n",
        "val_loss = history.history['val_loss']\n",
        "\n",
        "epochs_range = range(10)\n",
        "\n",
        "plt.figure(figsize=(15, 15))\n",
        "plt.subplot(2, 2, 1)\n",
        "plt.plot(epochs_range, acc, label='Training Accuracy')\n",
        "plt.plot(epochs_range, val_acc, label='Validation Accuracy')\n",
        "plt.legend(loc='lower right')\n",
        "plt.title('Training and Validation Accuracy')\n",
        "\n",
        "plt.subplot(2, 2, 2)\n",
        "plt.plot(epochs_range, loss, label='Training Loss')\n",
        "plt.plot(epochs_range, val_loss, label='Validation Loss')\n",
        "plt.legend(loc='upper right')\n",
        "plt.title('Training and Validation Loss')\n",
        "plt.show()"
      ]
    },
    {
      "cell_type": "code",
      "execution_count": null,
      "metadata": {},
      "outputs": [],
      "source": [
        "predictions = model.predict(X_test)"
      ]
    },
    {
      "cell_type": "code",
      "execution_count": null,
      "metadata": {},
      "outputs": [],
      "source": [
        "verify_index = 150"
      ]
    },
    {
      "cell_type": "code",
      "execution_count": null,
      "metadata": {},
      "outputs": [],
      "source": [
        "pred_index = np.argmax(predictions[verify_index])"
      ]
    },
    {
      "cell_type": "code",
      "execution_count": null,
      "metadata": {},
      "outputs": [],
      "source": [
        "plt.imshow(X_test[verify_index])\n",
        "plt.xlabel(labels_class[y_test[verify_index]])\n",
        "print(\"Pridicted state: \",labels_class[pred_index])"
      ]
    },
    {
      "cell_type": "code",
      "execution_count": null,
      "metadata": {},
      "outputs": [],
      "source": [
        "rohit_dataset_dir = \"rohit\"\n",
        "rohit_dataset_dir = pathlib.Path(rohit_dataset_dir)"
      ]
    },
    {
      "cell_type": "code",
      "execution_count": null,
      "metadata": {},
      "outputs": [],
      "source": [
        "rohit_images = list(rohit_dataset_dir.glob('*'))\n",
        "rohit_images"
      ]
    },
    {
      "cell_type": "code",
      "execution_count": null,
      "metadata": {},
      "outputs": [],
      "source": [
        "X_rohit = []\n",
        "\n",
        "for image in rohit_images:\n",
        "    img = cv2.imread(str(image))\n",
        "    img = cv2.cvtColor(img, cv2.COLOR_BGR2RGB)\n",
        "    resized_img = cv2.resize(img,(360,360))\n",
        "    X_rohit.append(resized_img)"
      ]
    },
    {
      "cell_type": "code",
      "execution_count": null,
      "metadata": {},
      "outputs": [],
      "source": [
        "X_rohit = np.array(X_rohit)\n",
        "X_rohit = X_rohit / 255.0"
      ]
    },
    {
      "cell_type": "code",
      "execution_count": null,
      "metadata": {},
      "outputs": [],
      "source": [
        "predictions = model.predict(X_rohit)"
      ]
    },
    {
      "cell_type": "code",
      "execution_count": null,
      "metadata": {},
      "outputs": [],
      "source": [
        "predictions"
      ]
    },
    {
      "cell_type": "code",
      "execution_count": null,
      "metadata": {},
      "outputs": [],
      "source": [
        "rohit_pred_index = np.argmax(predictions[1])"
      ]
    },
    {
      "cell_type": "code",
      "execution_count": null,
      "metadata": {},
      "outputs": [],
      "source": [
        "plt.imshow(X_rohit[1])\n",
        "#plt.xlabel(labels_class[y_test[2]])\n",
        "print(\"Pridicted state: \",labels_class[rohit_pred_index])"
      ]
    }
  ],
  "metadata": {
    "colab": {
      "name": "Student-engagement.ipynb",
      "provenance": []
    },
    "interpreter": {
      "hash": "ff9db6032680a9186e25d534ad7bf31d811c4189ec0c430e84c175dca2f4f4b9"
    },
    "kernelspec": {
      "display_name": "Python 3.8.6 64-bit",
      "language": "python",
      "name": "python3"
    },
    "language_info": {
      "codemirror_mode": {
        "name": "ipython",
        "version": 3
      },
      "file_extension": ".py",
      "mimetype": "text/x-python",
      "name": "python",
      "nbconvert_exporter": "python",
      "pygments_lexer": "ipython3",
      "version": "3.8.6"
    }
  },
  "nbformat": 4,
  "nbformat_minor": 0
}
