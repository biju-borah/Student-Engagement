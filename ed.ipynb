{
 "cells": [
  {
   "cell_type": "code",
   "execution_count": 3,
   "metadata": {},
   "outputs": [],
   "source": [
    "from keras.preprocessing.image import ImageDataGenerator\n",
    "from keras.models import Sequential\n",
    "from keras.layers import Dense,Dropout,Flatten\n",
    "from keras.layers import Conv2D,MaxPooling2D\n",
    "import os\n",
    "from matplotlib import pyplot as plt\n",
    "import numpy as np"
   ]
  },
  {
   "cell_type": "code",
   "execution_count": 4,
   "metadata": {},
   "outputs": [],
   "source": [
    "IMG_HEIGHT=48 \n",
    "IMG_WIDTH = 48\n",
    "batch_size=32"
   ]
  },
  {
   "cell_type": "code",
   "execution_count": 5,
   "metadata": {},
   "outputs": [],
   "source": [
    "train_data_dir='data/train/'\n",
    "validation_data_dir='data/test/'"
   ]
  },
  {
   "cell_type": "code",
   "execution_count": 6,
   "metadata": {},
   "outputs": [],
   "source": [
    "train_datagen = ImageDataGenerator(\n",
    "\t\t\t\t\trescale=1./255,\n",
    "\t\t\t\t\trotation_range=30,\n",
    "\t\t\t\t\tshear_range=0.3,\n",
    "\t\t\t\t\tzoom_range=0.3,\n",
    "\t\t\t\t\thorizontal_flip=True,\n",
    "\t\t\t\t\tfill_mode='nearest')"
   ]
  },
  {
   "cell_type": "code",
   "execution_count": 7,
   "metadata": {},
   "outputs": [],
   "source": [
    "validation_datagen = ImageDataGenerator(rescale=1./255)"
   ]
  },
  {
   "cell_type": "code",
   "execution_count": 8,
   "metadata": {},
   "outputs": [
    {
     "name": "stdout",
     "output_type": "stream",
     "text": [
      "Found 28709 images belonging to 7 classes.\n",
      "Found 7178 images belonging to 7 classes.\n"
     ]
    }
   ],
   "source": [
    "train_generator = train_datagen.flow_from_directory(\n",
    "\t\t\t\t\ttrain_data_dir,\n",
    "\t\t\t\t\tcolor_mode='grayscale',\n",
    "\t\t\t\t\ttarget_size=(IMG_HEIGHT, IMG_WIDTH),\n",
    "\t\t\t\t\tbatch_size=batch_size,\n",
    "\t\t\t\t\tclass_mode='categorical',\n",
    "\t\t\t\t\tshuffle=True)\n",
    "\n",
    "validation_generator = validation_datagen.flow_from_directory(\n",
    "\t\t\t\t\t\t\tvalidation_data_dir,\n",
    "\t\t\t\t\t\t\tcolor_mode='grayscale',\n",
    "\t\t\t\t\t\t\ttarget_size=(IMG_HEIGHT, IMG_WIDTH),\n",
    "\t\t\t\t\t\t\tbatch_size=batch_size,\n",
    "\t\t\t\t\t\t\tclass_mode='categorical',\n",
    "\t\t\t\t\t\t\tshuffle=True)"
   ]
  },
  {
   "cell_type": "code",
   "execution_count": 9,
   "metadata": {},
   "outputs": [],
   "source": [
    "class_labels=['Angry','Disgust', 'Fear', 'Happy','Neutral','Sad','Surprise']"
   ]
  },
  {
   "cell_type": "code",
   "execution_count": 10,
   "metadata": {},
   "outputs": [],
   "source": [
    "img, label = train_generator.__next__()"
   ]
  },
  {
   "cell_type": "code",
   "execution_count": 52,
   "metadata": {},
   "outputs": [
    {
     "data": {
      "image/png": "[encoded data removed]",
      "text/plain": [
       "<Figure size 432x288 with 1 Axes>"
      ]
     },
     "metadata": {
      "needs_background": "light"
     },
     "output_type": "display_data"
    }
   ],
   "source": [
    "import random\n",
    "\n",
    "i=random.randint(0, (img.shape[0])-1)\n",
    "image = img[i]\n",
    "labl = class_labels[label[i].argmax()]\n",
    "plt.imshow(image, cmap='gray')\n",
    "plt.title(labl)\n",
    "plt.show()"
   ]
  },
  {
   "cell_type": "code",
   "execution_count": 53,
   "metadata": {},
   "outputs": [
    {
     "data": {
      "image/png": "[encoded data removed]",
      "text/plain": [
       "<Figure size 432x288 with 1 Axes>"
      ]
     },
     "metadata": {
      "needs_background": "light"
     },
     "output_type": "display_data"
    }
   ],
   "source": [
    "import cv2\n",
    "color_image = cv2.cvtColor(image,cv2.COLOR_GRAY2RGB)\n",
    "plt.imshow(color_image)\n",
    "plt.show()"
   ]
  },
  {
   "cell_type": "code",
   "execution_count": 27,
   "metadata": {},
   "outputs": [],
   "source": [
    "model = Sequential()\n",
    "\n",
    "model.add(Conv2D(32, kernel_size=(3, 3), activation='relu', input_shape=(48,48,1)))\n",
    "\n",
    "model.add(Conv2D(64, kernel_size=(3, 3), activation='relu'))\n",
    "model.add(MaxPooling2D(pool_size=(2, 2)))\n",
    "model.add(Dropout(0.1))\n",
    "\n",
    "model.add(Conv2D(128, kernel_size=(3, 3), activation='relu'))\n",
    "model.add(MaxPooling2D(pool_size=(2, 2)))\n",
    "model.add(Dropout(0.1))\n",
    "\n",
    "model.add(Conv2D(256, kernel_size=(3, 3), activation='relu'))\n",
    "model.add(MaxPooling2D(pool_size=(2, 2)))\n",
    "model.add(Dropout(0.1))\n",
    "\n",
    "model.add(Flatten())\n",
    "model.add(Dense(512, activation='relu'))\n",
    "model.add(Dropout(0.2))\n",
    "\n",
    "model.add(Dense(7, activation='softmax'))"
   ]
  },
  {
   "cell_type": "code",
   "execution_count": 28,
   "metadata": {},
   "outputs": [
    {
     "name": "stdout",
     "output_type": "stream",
     "text": [
      "Model: \"sequential\"\n",
      "_________________________________________________________________\n",
      " Layer (type)                Output Shape              Param #   \n",
      "=================================================================\n",
      " conv2d (Conv2D)             (None, 46, 46, 32)        320       \n",
      "                                                                 \n",
      " conv2d_1 (Conv2D)           (None, 44, 44, 64)        18496     \n",
      "                                                                 \n",
      " max_pooling2d (MaxPooling2D  (None, 22, 22, 64)       0         \n",
      " )                                                               \n",
      "                                                                 \n",
      " dropout (Dropout)           (None, 22, 22, 64)        0         \n",
      "                                                                 \n",
      " conv2d_2 (Conv2D)           (None, 20, 20, 128)       73856     \n",
      "                                                                 \n",
      " max_pooling2d_1 (MaxPooling  (None, 10, 10, 128)      0         \n",
      " 2D)                                                             \n",
      "                                                                 \n",
      " dropout_1 (Dropout)         (None, 10, 10, 128)       0         \n",
      "                                                                 \n",
      " conv2d_3 (Conv2D)           (None, 8, 8, 256)         295168    \n",
      "                                                                 \n",
      " max_pooling2d_2 (MaxPooling  (None, 4, 4, 256)        0         \n",
      " 2D)                                                             \n",
      "                                                                 \n",
      " dropout_2 (Dropout)         (None, 4, 4, 256)         0         \n",
      "                                                                 \n",
      " flatten (Flatten)           (None, 4096)              0         \n",
      "                                                                 \n",
      " dense (Dense)               (None, 512)               2097664   \n",
      "                                                                 \n",
      " dropout_3 (Dropout)         (None, 512)               0         \n",
      "                                                                 \n",
      " dense_1 (Dense)             (None, 7)                 3591      \n",
      "                                                                 \n",
      "=================================================================\n",
      "Total params: 2,489,095\n",
      "Trainable params: 2,489,095\n",
      "Non-trainable params: 0\n",
      "_________________________________________________________________\n",
      "None\n"
     ]
    }
   ],
   "source": [
    "model.compile(optimizer = 'adam', loss='categorical_crossentropy', metrics=['accuracy'])\n",
    "print(model.summary())"
   ]
  },
  {
   "cell_type": "code",
   "execution_count": 29,
   "metadata": {},
   "outputs": [],
   "source": [
    "train_path = \"data/train/\"\n",
    "test_path = \"data/test\""
   ]
  },
  {
   "cell_type": "code",
   "execution_count": 30,
   "metadata": {},
   "outputs": [],
   "source": [
    "num_train_imgs = 0\n",
    "for root, dirs, files in os.walk(train_path):\n",
    "    num_train_imgs += len(files)\n",
    "    \n",
    "num_test_imgs = 0\n",
    "for root, dirs, files in os.walk(test_path):\n",
    "    num_test_imgs += len(files)"
   ]
  },
  {
   "cell_type": "code",
   "execution_count": 34,
   "metadata": {},
   "outputs": [],
   "source": [
    "epochs=30"
   ]
  },
  {
   "cell_type": "code",
   "execution_count": 35,
   "metadata": {},
   "outputs": [
    {
     "name": "stdout",
     "output_type": "stream",
     "text": [
      "Epoch 1/30\n",
      "897/897 [==============================] - 236s 264ms/step - loss: 1.3842 - accuracy: 0.4659 - val_loss: 1.2732 - val_accuracy: 0.5126\n",
      "Epoch 2/30\n",
      "897/897 [==============================] - 235s 261ms/step - loss: 1.3435 - accuracy: 0.4838 - val_loss: 1.2132 - val_accuracy: 0.5361\n",
      "Epoch 3/30\n",
      "897/897 [==============================] - 229s 255ms/step - loss: 1.3176 - accuracy: 0.4970 - val_loss: 1.1862 - val_accuracy: 0.5430\n",
      "Epoch 4/30\n",
      "897/897 [==============================] - 229s 255ms/step - loss: 1.2929 - accuracy: 0.5065 - val_loss: 1.1691 - val_accuracy: 0.5559\n",
      "Epoch 5/30\n",
      "897/897 [==============================] - 229s 255ms/step - loss: 1.2744 - accuracy: 0.5124 - val_loss: 1.1679 - val_accuracy: 0.5557\n",
      "Epoch 6/30\n",
      "897/897 [==============================] - 229s 255ms/step - loss: 1.2641 - accuracy: 0.5171 - val_loss: 1.1300 - val_accuracy: 0.5678\n",
      "Epoch 7/30\n",
      "897/897 [==============================] - 229s 255ms/step - loss: 1.2489 - accuracy: 0.5256 - val_loss: 1.1571 - val_accuracy: 0.5628\n",
      "Epoch 8/30\n",
      "897/897 [==============================] - 232s 259ms/step - loss: 1.2399 - accuracy: 0.5252 - val_loss: 1.1604 - val_accuracy: 0.5579\n",
      "Epoch 9/30\n",
      "897/897 [==============================] - 270s 301ms/step - loss: 1.2243 - accuracy: 0.5351 - val_loss: 1.1251 - val_accuracy: 0.5703\n",
      "Epoch 10/30\n",
      "897/897 [==============================] - 265s 296ms/step - loss: 1.2142 - accuracy: 0.5375 - val_loss: 1.1353 - val_accuracy: 0.5665\n",
      "Epoch 11/30\n",
      "897/897 [==============================] - 267s 297ms/step - loss: 1.2097 - accuracy: 0.5406 - val_loss: 1.1058 - val_accuracy: 0.5816\n",
      "Epoch 12/30\n",
      "897/897 [==============================] - 267s 297ms/step - loss: 1.1992 - accuracy: 0.5458 - val_loss: 1.1058 - val_accuracy: 0.5760\n",
      "Epoch 13/30\n",
      "897/897 [==============================] - 269s 300ms/step - loss: 1.1908 - accuracy: 0.5494 - val_loss: 1.1081 - val_accuracy: 0.5811\n",
      "Epoch 14/30\n",
      "897/897 [==============================] - 269s 300ms/step - loss: 1.1859 - accuracy: 0.5518 - val_loss: 1.1080 - val_accuracy: 0.5834\n",
      "Epoch 15/30\n",
      "897/897 [==============================] - 272s 303ms/step - loss: 1.1818 - accuracy: 0.5523 - val_loss: 1.0830 - val_accuracy: 0.5918\n",
      "Epoch 16/30\n",
      "897/897 [==============================] - 277s 309ms/step - loss: 1.1725 - accuracy: 0.5594 - val_loss: 1.1058 - val_accuracy: 0.5830\n",
      "Epoch 17/30\n",
      "897/897 [==============================] - 277s 309ms/step - loss: 1.1676 - accuracy: 0.5590 - val_loss: 1.0848 - val_accuracy: 0.5932\n",
      "Epoch 18/30\n",
      "897/897 [==============================] - 280s 312ms/step - loss: 1.1627 - accuracy: 0.5592 - val_loss: 1.0780 - val_accuracy: 0.5933\n",
      "Epoch 19/30\n",
      "897/897 [==============================] - 282s 315ms/step - loss: 1.1541 - accuracy: 0.5611 - val_loss: 1.0691 - val_accuracy: 0.5950\n",
      "Epoch 20/30\n",
      "897/897 [==============================] - 289s 322ms/step - loss: 1.1592 - accuracy: 0.5596 - val_loss: 1.1043 - val_accuracy: 0.5851\n",
      "Epoch 21/30\n",
      "897/897 [==============================] - 270s 300ms/step - loss: 1.1483 - accuracy: 0.5668 - val_loss: 1.0693 - val_accuracy: 0.5944\n",
      "Epoch 22/30\n",
      "897/897 [==============================] - 263s 294ms/step - loss: 1.1402 - accuracy: 0.5666 - val_loss: 1.0928 - val_accuracy: 0.5882\n",
      "Epoch 23/30\n",
      "897/897 [==============================] - 267s 298ms/step - loss: 1.1343 - accuracy: 0.5725 - val_loss: 1.0579 - val_accuracy: 0.6073\n",
      "Epoch 24/30\n",
      "897/897 [==============================] - 268s 299ms/step - loss: 1.1321 - accuracy: 0.5721 - val_loss: 1.0602 - val_accuracy: 0.6034\n",
      "Epoch 25/30\n",
      "897/897 [==============================] - 271s 302ms/step - loss: 1.1249 - accuracy: 0.5730 - val_loss: 1.0506 - val_accuracy: 0.6097\n",
      "Epoch 26/30\n",
      "897/897 [==============================] - 267s 297ms/step - loss: 1.1260 - accuracy: 0.5732 - val_loss: 1.0545 - val_accuracy: 0.6045\n",
      "Epoch 27/30\n",
      "897/897 [==============================] - 268s 299ms/step - loss: 1.1248 - accuracy: 0.5753 - val_loss: 1.0643 - val_accuracy: 0.6021\n",
      "Epoch 28/30\n",
      "897/897 [==============================] - 274s 305ms/step - loss: 1.1225 - accuracy: 0.5735 - val_loss: 1.0806 - val_accuracy: 0.5978\n",
      "Epoch 29/30\n",
      "897/897 [==============================] - 274s 305ms/step - loss: 1.1162 - accuracy: 0.5772 - val_loss: 1.0610 - val_accuracy: 0.6027\n",
      "Epoch 30/30\n",
      "897/897 [==============================] - 267s 298ms/step - loss: 1.1081 - accuracy: 0.5813 - val_loss: 1.0533 - val_accuracy: 0.6105\n"
     ]
    }
   ],
   "source": [
    "history=model.fit(train_generator,\n",
    "                steps_per_epoch=num_train_imgs//batch_size,\n",
    "                epochs=epochs,\n",
    "                validation_data=validation_generator,\n",
    "                validation_steps=num_test_imgs//batch_size)"
   ]
  },
  {
   "cell_type": "code",
   "execution_count": 36,
   "metadata": {},
   "outputs": [],
   "source": [
    "model.save('emotion_detection_model.h5')"
   ]
  },
  {
   "cell_type": "code",
   "execution_count": 39,
   "metadata": {},
   "outputs": [
    {
     "data": {
      "image/png": "[encoded data removed]",
      "text/plain": [
       "<Figure size 1080x1080 with 2 Axes>"
      ]
     },
     "metadata": {
      "needs_background": "light"
     },
     "output_type": "display_data"
    }
   ],
   "source": [
    "acc = history.history['accuracy']\n",
    "val_acc = history.history['val_accuracy']\n",
    "loss = history.history['loss']\n",
    "val_loss = history.history['val_loss']\n",
    "\n",
    "epochs_range = range(30)\n",
    "\n",
    "plt.figure(figsize=(15, 15))\n",
    "plt.subplot(2, 2, 1)\n",
    "plt.plot(epochs_range, acc, label='Training Accuracy')\n",
    "plt.plot(epochs_range, val_acc, label='Validation Accuracy')\n",
    "plt.legend(loc='lower right')\n",
    "plt.title('Training and Validation Accuracy')\n",
    "\n",
    "plt.subplot(2, 2, 2)\n",
    "plt.plot(epochs_range, loss, label='Training Loss')\n",
    "plt.plot(epochs_range, val_loss, label='Validation Loss')\n",
    "plt.legend(loc='upper right')\n",
    "plt.title('Training and Validation Loss')\n",
    "plt.show()\n"
   ]
  },
  {
   "cell_type": "code",
   "execution_count": 40,
   "metadata": {},
   "outputs": [],
   "source": [
    "import pathlib\n",
    "rohit_dataset_dir = \"dataset/rohit\"\n",
    "rohit_dataset_dir = pathlib.Path(rohit_dataset_dir)"
   ]
  },
  {
   "cell_type": "code",
   "execution_count": 41,
   "metadata": {},
   "outputs": [
    {
     "data": {
      "text/plain": [
       "[WindowsPath('dataset/rohit/a1.jpeg'),\n",
       " WindowsPath('dataset/rohit/a2.jpeg'),\n",
       " WindowsPath('dataset/rohit/a3.jpeg'),\n",
       " WindowsPath('dataset/rohit/a4.jpeg'),\n",
       " WindowsPath('dataset/rohit/b1.jpeg'),\n",
       " WindowsPath('dataset/rohit/r1.jpeg'),\n",
       " WindowsPath('dataset/rohit/r2.jpeg'),\n",
       " WindowsPath('dataset/rohit/r3.jpeg'),\n",
       " WindowsPath('dataset/rohit/r4.png'),\n",
       " WindowsPath('dataset/rohit/r5.jpg'),\n",
       " WindowsPath('dataset/rohit/r6.png'),\n",
       " WindowsPath('dataset/rohit/r7.jpg'),\n",
       " WindowsPath('dataset/rohit/r8.jpeg')]"
      ]
     },
     "execution_count": 41,
     "metadata": {},
     "output_type": "execute_result"
    }
   ],
   "source": [
    "rohit_images = list(rohit_dataset_dir.glob('*'))\n",
    "rohit_images"
   ]
  },
  {
   "cell_type": "code",
   "execution_count": 42,
   "metadata": {},
   "outputs": [],
   "source": [
    "import cv2\n",
    "X_rohit = []\n",
    "\n",
    "for image in rohit_images:\n",
    "    img = cv2.imread(str(image))\n",
    "    img = cv2.cvtColor(img, cv2.COLOR_BGR2GRAY)\n",
    "    resized_img = cv2.resize(img,(48,48))\n",
    "    X_rohit.append(resized_img)\n"
   ]
  },
  {
   "cell_type": "code",
   "execution_count": 43,
   "metadata": {},
   "outputs": [],
   "source": [
    "X_rohit = np.array(X_rohit)\n",
    "X_rohit = X_rohit / 255.0"
   ]
  },
  {
   "cell_type": "code",
   "execution_count": 44,
   "metadata": {},
   "outputs": [
    {
     "name": "stdout",
     "output_type": "stream",
     "text": [
      "1/1 [==============================] - 1s 517ms/step\n"
     ]
    }
   ],
   "source": [
    "predictions = model.predict(X_rohit)"
   ]
  },
  {
   "cell_type": "code",
   "execution_count": 64,
   "metadata": {},
   "outputs": [],
   "source": [
    "val = 1"
   ]
  },
  {
   "cell_type": "code",
   "execution_count": 65,
   "metadata": {},
   "outputs": [],
   "source": [
    "rohit_pred_index = np.argmax(predictions[val])"
   ]
  }
 ],
 "metadata": {
  "kernelspec": {
   "display_name": "Python 3.8.6 64-bit",
   "language": "python",
   "name": "python3"
  },
  "language_info": {
   "codemirror_mode": {
    "name": "ipython",
    "version": 3
   },
   "file_extension": ".py",
   "mimetype": "text/x-python",
   "name": "python",
   "nbconvert_exporter": "python",
   "pygments_lexer": "ipython3",
   "version": "3.8.6"
  },
  "orig_nbformat": 4,
  "vscode": {
   "interpreter": {
    "hash": "ff9db6032680a9186e25d534ad7bf31d811c4189ec0c430e84c175dca2f4f4b9"
   }
  }
 },
 "nbformat": 4,
 "nbformat_minor": 2
}
